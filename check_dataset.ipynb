{
 "cells": [
  {
   "cell_type": "markdown",
   "metadata": {},
   "source": [
    "Import and read file as df_nba"
   ]
  },
  {
   "cell_type": "code",
   "execution_count": null,
   "metadata": {},
   "outputs": [],
   "source": [
    "import pandas as pd\n",
    "import matplotlib.pyplot as plt\n",
    "\n",
    "df_nba = pd.read_csv('datasets/nba_final.csv')"
   ]
  },
  {
   "cell_type": "markdown",
   "metadata": {},
   "source": [
    "## Preview dataset"
   ]
  },
  {
   "cell_type": "code",
   "execution_count": null,
   "metadata": {},
   "outputs": [],
   "source": [
    "df_nba.head()"
   ]
  },
  {
   "cell_type": "markdown",
   "metadata": {},
   "source": [
    "## Dataset overview"
   ]
  },
  {
   "cell_type": "code",
   "execution_count": null,
   "metadata": {},
   "outputs": [],
   "source": [
    "df_nba.describe()"
   ]
  },
  {
   "cell_type": "markdown",
   "metadata": {},
   "source": [
    "## Best player per position"
   ]
  },
  {
   "cell_type": "code",
   "execution_count": null,
   "metadata": {},
   "outputs": [],
   "source": [
    "def top_player_points(df):\n",
    "    df = df.groupby('Pos').apply(lambda x: x.sort_values('PTS', ascending=False).head(1)).reset_index(drop=True)\n",
    "\n",
    "    # Gráfico de barras para os principais 5 jogadores por \n",
    "    fig, ax = plt.subplots(figsize=(10, 6))\n",
    "\n",
    "    for position, group in df.groupby('Pos'):\n",
    "        ax.bar(group['Player'], group['PTS'], label=f\"{position} - PTS: {group['PTS'].values[0]}, AST: {group['AST'].values[0]}, TRB: {group['TRB'].values[0]}\")\n",
    "\n",
    "    ax.set_xlabel('Jogadores')\n",
    "    ax.set_ylabel('Pontos (PTS)')\n",
    "    ax.set_title('Principais jogadores por posição em termos de pontos (PTS), assistências (AST) e rebotes (TRB)')\n",
    "    ax.legend()\n",
    "    plt.show()"
   ]
  },
  {
   "cell_type": "code",
   "execution_count": null,
   "metadata": {},
   "outputs": [],
   "source": [
    "top_player_points(df_nba)"
   ]
  },
  {
   "cell_type": "code",
   "execution_count": null,
   "metadata": {},
   "outputs": [],
   "source": [
    "def top_player_assits(df):\n",
    "    df = df.groupby('Pos').apply(lambda x: x.sort_values('AST', ascending=False).head(1)).reset_index(drop=True)\n",
    "\n",
    "    # Gráfico de barras para os principais jogadores por posição em termos de assistências\n",
    "    fig, ax = plt.subplots(figsize=(10, 6))\n",
    "\n",
    "    for position, group in df.groupby('Pos'):\n",
    "        ax.bar(group['Player'], group['AST'], label=f\"{position} - PTS: {group['PTS'].values[0]}, AST: {group['AST'].values[0]}, TRB: {group['TRB'].values[0]}\")\n",
    "\n",
    "    ax.set_xlabel('Jogadores')\n",
    "    ax.set_ylabel('Assistências (AST)')\n",
    "    ax.set_title('Principais jogadores por posição em termos de assistências (AST)')\n",
    "    ax.legend()\n",
    "    plt.show()"
   ]
  },
  {
   "cell_type": "code",
   "execution_count": null,
   "metadata": {},
   "outputs": [],
   "source": [
    "top_player_assits(df_nba)"
   ]
  },
  {
   "cell_type": "code",
   "execution_count": null,
   "metadata": {},
   "outputs": [],
   "source": [
    "def top_player_rebounds(df):\n",
    "    df = df.groupby('Pos').apply(lambda x: x.sort_values('TRB', ascending=False).head(1)).reset_index(drop=True)\n",
    "\n",
    "    # Gráfico de barras para os principais jogadores por posição em termos de rebotes\n",
    "    fig, ax = plt.subplots(figsize=(10, 6))\n",
    "\n",
    "    for position, group in df.groupby('Pos'):\n",
    "        ax.bar(group['Player'], group['TRB'], label=f\"{position} - PTS: {group['PTS'].values[0]}, AST: {group['AST'].values[0]}, TRB: {group['TRB'].values[0]}\")\n",
    "\n",
    "    ax.set_xlabel('Jogadores')\n",
    "    ax.set_ylabel('Rebotes (TRB)')\n",
    "    ax.set_title('Principais jogadores por posição em termos de rebotes (TRB)')\n",
    "    ax.legend()\n",
    "    plt.show()"
   ]
  },
  {
   "cell_type": "code",
   "execution_count": null,
   "metadata": {},
   "outputs": [],
   "source": [
    "top_player_rebounds(df_nba)"
   ]
  },
  {
   "cell_type": "markdown",
   "metadata": {},
   "source": [
    "## Top 10 salaries"
   ]
  },
  {
   "cell_type": "code",
   "execution_count": null,
   "metadata": {},
   "outputs": [],
   "source": [
    "def top10_highest_salary(df):\n",
    "    df = df.sort_values(by=['Salario_2022/2023'], ascending=False).head(10)\n",
    "    \n",
    "    # Multiplicar os valores do eixo y por 1.000.000\n",
    "    df['Salario_2022/2023'] = df['Salario_2022/2023']\n",
    "    \n",
    "    # Gráfico de barras para os 10 jogadores com o salário mais alto\n",
    "    fig, ax = plt.subplots(figsize=(10, 6))\n",
    "\n",
    "    ax.bar(df['Player'], df['Salario_2022/2023'])\n",
    "\n",
    "    ax.set_xlabel('Jogadores')\n",
    "    ax.set_ylabel('Salário em 10^7$ (USD)')\n",
    "    ax.set_title('10 jogadores com o salário mais alto')\n",
    "    plt.xticks(rotation=90)\n",
    "    plt.show()"
   ]
  },
  {
   "cell_type": "code",
   "execution_count": null,
   "metadata": {},
   "outputs": [],
   "source": [
    "top10_highest_salary(df_nba)"
   ]
  },
  {
   "cell_type": "markdown",
   "metadata": {},
   "source": [
    "## Number players for each franchise"
   ]
  },
  {
   "cell_type": "code",
   "execution_count": null,
   "metadata": {},
   "outputs": [],
   "source": [
    "def count_players_franchise(df):\n",
    "    \n",
    "    # count the number of players for each tm and plot it\n",
    "    df = df['Tm'].value_counts().reset_index()\n",
    "    df.columns = ['Franchise', 'Number of Players']\n",
    "    \n",
    "    # graph with the number of players for each team\n",
    "    fig, ax = plt.subplots(figsize=(10, 6))\n",
    "    \n",
    "    ax.bar(df['Franchise'], df['Number of Players'])\n",
    "    \n",
    "    ax.set_xlabel('Franchise')\n",
    "    ax.set_ylabel('Number of players')\n",
    "    ax.set_title('Number of players for each franchise')\n",
    "    \n",
    "    plt.xticks(rotation=90)\n",
    "    plt.show()"
   ]
  },
  {
   "cell_type": "code",
   "execution_count": null,
   "metadata": {},
   "outputs": [],
   "source": [
    "count_players_franchise(df_nba)"
   ]
  },
  {
   "cell_type": "markdown",
   "metadata": {},
   "source": [
    "## Percentage positions in the legue"
   ]
  },
  {
   "cell_type": "code",
   "execution_count": null,
   "metadata": {},
   "outputs": [],
   "source": [
    "def postions_per(df):\n",
    "    \n",
    "    # for each postion get percentage in all players and plot it in a pie chart\n",
    "    \n",
    "    df = df['Pos'].value_counts().reset_index()\n",
    "    \n",
    "    df.columns = ['Position', 'Number of Players']\n",
    "    \n",
    "    # graph with the number of players for each team\n",
    "    \n",
    "    fig, ax = plt.subplots(figsize=(10, 6))\n",
    "    \n",
    "    ax.pie(df['Number of Players'], labels=df['Position'], autopct='%1.1f%%', shadow=True, startangle=90)\n",
    "    \n",
    "    ax.set_title('Percentage of players for each position')\n",
    "    \n",
    "    plt.show()"
   ]
  },
  {
   "cell_type": "code",
   "execution_count": null,
   "metadata": {},
   "outputs": [],
   "source": [
    "postions_per(df_nba)"
   ]
  },
  {
   "cell_type": "markdown",
   "metadata": {},
   "source": [
    "## Mean of weight and height distribution for each position "
   ]
  },
  {
   "cell_type": "code",
   "execution_count": null,
   "metadata": {},
   "outputs": [],
   "source": [
    "def mean_weight(df):\n",
    "    \n",
    "    # for each position get mean and weight and do 2 plots for each one by position\n",
    "    \n",
    "    df = df.groupby('Pos')['Weight'].mean().reset_index()\n",
    "    \n",
    "    # graph with the number of players for each team\n",
    "    \n",
    "    fig, ax = plt.subplots(figsize=(10, 6))\n",
    "    \n",
    "    ax.bar(df['Pos'], df['Weight'])\n",
    "    \n",
    "    ax.set_xlabel('Position')\n",
    "    \n",
    "    ax.set_ylabel('Weight')\n",
    "    \n",
    "    ax.set_title('Mean weight for each position')\n",
    "    \n",
    "    plt.show()\n",
    "    \n",
    "    print(df)"
   ]
  },
  {
   "cell_type": "code",
   "execution_count": null,
   "metadata": {},
   "outputs": [],
   "source": [
    "mean_weight(df_nba)"
   ]
  },
  {
   "cell_type": "code",
   "execution_count": null,
   "metadata": {},
   "outputs": [],
   "source": [
    "def mean_height(df):\n",
    "    \n",
    "    # for each position get mean and height and do 2 plots for each one by position\n",
    "    \n",
    "    df = df.groupby('Pos')['Height'].mean().reset_index()\n",
    "    \n",
    "    # graph with the number of players for each team\n",
    "    \n",
    "    fig, ax = plt.subplots(figsize=(10, 6))\n",
    "    \n",
    "    ax.bar(df['Pos'], df['Height'])\n",
    "    \n",
    "    ax.set_xlabel('Position')\n",
    "    \n",
    "    ax.set_ylabel('Height')\n",
    "    \n",
    "    ax.set_title('Mean height for each position')\n",
    "    \n",
    "    plt.show()\n",
    "    \n",
    "    #and print values for each positon \n",
    "    \n",
    "    print(df)"
   ]
  },
  {
   "cell_type": "code",
   "execution_count": null,
   "metadata": {},
   "outputs": [],
   "source": [
    "mean_height(df_nba)"
   ]
  },
  {
   "cell_type": "markdown",
   "metadata": {},
   "source": [
    "## Information of the dataset"
   ]
  },
  {
   "cell_type": "code",
   "execution_count": null,
   "metadata": {},
   "outputs": [],
   "source": [
    "df_nba.info()"
   ]
  }
 ],
 "metadata": {
  "kernelspec": {
   "display_name": "Python 3",
   "language": "python",
   "name": "python3"
  },
  "language_info": {
   "codemirror_mode": {
    "name": "ipython",
    "version": 3
   },
   "file_extension": ".py",
   "mimetype": "text/x-python",
   "name": "python",
   "nbconvert_exporter": "python",
   "pygments_lexer": "ipython3",
   "version": "3.11.5"
  }
 },
 "nbformat": 4,
 "nbformat_minor": 2
}
